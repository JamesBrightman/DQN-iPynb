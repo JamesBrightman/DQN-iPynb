{
  "nbformat": 4,
  "nbformat_minor": 0,
  "metadata": {
    "colab": {
      "name": "DQN.ipynb",
      "version": "0.3.2",
      "provenance": [],
      "include_colab_link": true
    },
    "kernelspec": {
      "name": "python3",
      "display_name": "Python 3"
    },
    "accelerator": "GPU"
  },
  "cells": [
    {
      "cell_type": "markdown",
      "metadata": {
        "id": "view-in-github",
        "colab_type": "text"
      },
      "source": [
        "<a href=\"https://colab.research.google.com/github/JamesBrightman/DQN-iPynb/blob/master/DQN.ipynb\" target=\"_parent\"><img src=\"https://colab.research.google.com/assets/colab-badge.svg\" alt=\"Open In Colab\"/></a>"
      ]
    },
    {
      "metadata": {
        "id": "YgYydSQzI7Vb",
        "colab_type": "code",
        "outputId": "e0c0d46a-5f3e-4537-e2a7-15f629c70a07",
        "colab": {
          "base_uri": "https://localhost:8080/",
          "height": 119
        }
      },
      "cell_type": "code",
      "source": [
        "!git clone https://github.com/JamesBrightman/DQN-iPynb"
      ],
      "execution_count": 0,
      "outputs": [
        {
          "output_type": "stream",
          "text": [
            "Cloning into 'DQN-iPynb'...\n",
            "remote: Enumerating objects: 26, done.\u001b[K\n",
            "remote: Counting objects: 100% (26/26), done.\u001b[K\n",
            "remote: Compressing objects: 100% (26/26), done.\u001b[K\n",
            "remote: Total 26 (delta 5), reused 0 (delta 0), pack-reused 0\u001b[K\n",
            "Unpacking objects: 100% (26/26), done.\n"
          ],
          "name": "stdout"
        }
      ]
    },
    {
      "metadata": {
        "id": "hc7BaJSvJVOk",
        "colab_type": "code",
        "outputId": "c4286de9-7add-4932-fe9e-c4342127c5bd",
        "colab": {
          "base_uri": "https://localhost:8080/",
          "height": 34
        }
      },
      "cell_type": "code",
      "source": [
        "cd DQN-iPynb"
      ],
      "execution_count": 0,
      "outputs": [
        {
          "output_type": "stream",
          "text": [
            "/content/DQN-iPynb\n"
          ],
          "name": "stdout"
        }
      ]
    },
    {
      "metadata": {
        "id": "-gqj4DXqJeBN",
        "colab_type": "code",
        "outputId": "d1c13005-1edb-4c3f-e8bc-34d95ded5871",
        "colab": {
          "base_uri": "https://localhost:8080/",
          "height": 238
        }
      },
      "cell_type": "code",
      "source": [
        "ls"
      ],
      "execution_count": 0,
      "outputs": [
        {
          "output_type": "stream",
          "text": [
            " history.py\n",
            " LICENSE\n",
            " main.py\n",
            "'main - TensorBoard.lnk'\n",
            "'main - Test + Render.lnk'\n",
            "'main - Train.lnk'\n",
            " \u001b[0m\u001b[01;34mmodel\u001b[0m/\n",
            " \u001b[01;34m__pycache__\u001b[0m/\n",
            " README.md\n",
            " replay_memory.py\n",
            "'tiny DQN before after splitting training and testing.txt'\n",
            "'tiny DQN before splitting training and testing.txt'\n",
            " utils.py\n"
          ],
          "name": "stdout"
        }
      ]
    },
    {
      "metadata": {
        "id": "pGI9igz1KqE_",
        "colab_type": "code",
        "colab": {}
      },
      "cell_type": "code",
      "source": [
        "!tensorboard --logdir model --host localhost --port 8088\n"
      ],
      "execution_count": 0,
      "outputs": []
    },
    {
      "metadata": {
        "id": "yws5gSkCJgKy",
        "colab_type": "code",
        "outputId": "cf9dda99-2838-4793-d4bf-bf5bd4c4ef95",
        "colab": {
          "base_uri": "https://localhost:8080/",
          "height": 357
        }
      },
      "cell_type": "code",
      "source": [
        "!python main.py -v"
      ],
      "execution_count": 9,
      "outputs": [
        {
          "output_type": "stream",
          "text": [
            "Iter 191421, training step 916357/4000000 (22.9)%, loss 0.000383, exp-moving-avg reward 0.016831, mean max-Q 1.347629Traceback (most recent call last):\n",
            "  File \"main.py\", line 298, in <module>\n",
            "    q_values = online_q_values.eval(feed_dict={X_state: [history.get()]})[0]\n",
            "  File \"/usr/local/lib/python3.6/dist-packages/tensorflow/python/framework/ops.py\", line 713, in eval\n",
            "    return _eval_using_default_session(self, feed_dict, self.graph, session)\n",
            "  File \"/usr/local/lib/python3.6/dist-packages/tensorflow/python/framework/ops.py\", line 5157, in _eval_using_default_session\n",
            "    return session.run(tensors, feed_dict)\n",
            "  File \"/usr/local/lib/python3.6/dist-packages/tensorflow/python/client/session.py\", line 929, in run\n",
            "    run_metadata_ptr)\n",
            "  File \"/usr/local/lib/python3.6/dist-packages/tensorflow/python/client/session.py\", line 1152, in _run\n",
            "    feed_dict_tensor, options, run_metadata)\n",
            "  File \"/usr/local/lib/python3.6/dist-packages/tensorflow/python/client/session.py\", line 1328, in _do_run\n",
            "    run_metadata)\n",
            "  File \"/usr/local/lib/python3.6/dist-packages/tensorflow/python/client/session.py\", line 1334, in _do_call\n",
            "    return fn(*args)\n",
            "  File \"/usr/local/lib/python3.6/dist-packages/tensorflow/python/client/session.py\", line 1319, in _run_fn\n",
            "    options, feed_dict, fetch_list, target_list, run_metadata)\n",
            "  File \"/usr/local/lib/python3.6/dist-packages/tensorflow/python/client/session.py\", line 1407, in _call_tf_sessionrun\n",
            "    run_metadata)\n",
            "KeyboardInterrupt\n"
          ],
          "name": "stdout"
        }
      ]
    },
    {
      "metadata": {
        "id": "ergGD6_IVHys",
        "colab_type": "code",
        "colab": {}
      },
      "cell_type": "code",
      "source": [
        "# memory footprint support libraries/code\n",
        "!ln -sf /opt/bin/nvidia-smi /usr/bin/nvidia-smi\n",
        "!pip install gputil\n",
        "!pip install psutil\n",
        "!pip install humanize\n",
        "import psutil\n",
        "import humanize\n",
        "import os\n",
        "import GPUtil as GPU\n",
        "GPUs = GPU.getGPUs()\n",
        "# XXX: only one GPU on Colab and isn’t guaranteed\n",
        "gpu = GPUs[0]\n",
        "def printm():\n",
        " process = psutil.Process(os.getpid())\n",
        " print(\"Gen RAM Free: \" + humanize.naturalsize( psutil.virtual_memory().available ), \" | Proc size: \" + humanize.naturalsize( process.memory_info().rss))\n",
        " print(\"GPU RAM Free: {0:.0f}MB | Used: {1:.0f}MB | Util {2:3.0f}% | Total {3:.0f}MB\".format(gpu.memoryFree, gpu.memoryUsed, gpu.memoryUtil*100, gpu.memoryTotal))\n",
        "printm()"
      ],
      "execution_count": 0,
      "outputs": []
    },
    {
      "metadata": {
        "id": "gEkg4ls2VJHW",
        "colab_type": "code",
        "colab": {
          "base_uri": "https://localhost:8080/",
          "height": 187
        },
        "outputId": "9faac225-7c61-45c9-f2f9-ebe444b9a1db"
      },
      "cell_type": "code",
      "source": [
        "ls"
      ],
      "execution_count": 29,
      "outputs": [
        {
          "output_type": "stream",
          "text": [
            "checkpoint                             model.ckpt-913000.meta\n",
            "\u001b[0m\u001b[01;34mlogs\u001b[0m/                                  model.ckpt-914000.data-00000-of-00001\n",
            "model.ckpt-871000.data-00000-of-00001  model.ckpt-914000.index\n",
            "model.ckpt-871000.index                model.ckpt-914000.meta\n",
            "model.ckpt-871000.meta                 model.ckpt-915000.data-00000-of-00001\n",
            "model.ckpt-912000.data-00000-of-00001  model.ckpt-915000.index\n",
            "model.ckpt-912000.index                model.ckpt-915000.meta\n",
            "model.ckpt-912000.meta                 model.ckpt-916000.data-00000-of-00001\n",
            "model.ckpt-913000.data-00000-of-00001  model.ckpt-916000.index\n",
            "model.ckpt-913000.index                model.ckpt-916000.meta\n"
          ],
          "name": "stdout"
        }
      ]
    },
    {
      "metadata": {
        "id": "g77hvz-oVm6k",
        "colab_type": "code",
        "colab": {
          "base_uri": "https://localhost:8080/",
          "height": 34
        },
        "outputId": "5e5219d3-1938-4db3-835d-c245dcebf472"
      },
      "cell_type": "code",
      "source": [
        "!git push\n"
      ],
      "execution_count": 33,
      "outputs": [
        {
          "output_type": "stream",
          "text": [
            "fatal: could not read Username for 'https://github.com': No such device or address\n"
          ],
          "name": "stdout"
        }
      ]
    },
    {
      "metadata": {
        "id": "otxQjpjYV-Mf",
        "colab_type": "code",
        "colab": {}
      },
      "cell_type": "code",
      "source": [
        "!git config --global user.email \"jamesmbrightman@gmail.com\""
      ],
      "execution_count": 0,
      "outputs": []
    },
    {
      "metadata": {
        "id": "OyqbLisJXDnV",
        "colab_type": "code",
        "colab": {}
      },
      "cell_type": "code",
      "source": [
        "! git config --global user.name \"JamesBrightman\""
      ],
      "execution_count": 0,
      "outputs": []
    }
  ]
}